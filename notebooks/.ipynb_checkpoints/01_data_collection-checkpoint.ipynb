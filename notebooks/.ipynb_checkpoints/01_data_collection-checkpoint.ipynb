{
 "cells": [
  {
   "cell_type": "code",
   "execution_count": 2,
   "id": "c0cfe9b3-ef01-4fbb-a7a7-df9f20871b61",
   "metadata": {},
   "outputs": [],
   "source": [
    "# Bibliotheken importieren\n",
    "import lyricsgenius\n",
    "import os\n",
    "import re\n",
    "import csv\n",
    "import time\n",
    "import json\n",
    "import uuid\n",
    "import pprint"
   ]
  },
  {
   "cell_type": "code",
   "execution_count": 3,
   "id": "bdb4178f-e112-4f2a-a283-a553b326b0c4",
   "metadata": {},
   "outputs": [],
   "source": [
    "# Genius Access Token\n",
    "genius_token = \"abeB_Trf5zs42r3BccPikDHS-ee9Yrevj_8JMVBdAMJsJzsUIOxUGEZpDKxaL-ML\"\n",
    "genius = lyricsgenius.Genius(genius_token, timeout=60) \n",
    "\n",
    "# Optionen für saubere Songtexte\n",
    "genius.verbose = False\n",
    "genius.remove_section_headers = True\n",
    "genius.skip_non_songs = True"
   ]
  },
  {
   "cell_type": "code",
   "execution_count": 4,
   "id": "63cf8784-df0f-4aaf-b276-c3224f25c406",
   "metadata": {},
   "outputs": [],
   "source": [
    "# Pfade erstellen\n",
    "base_path = \"../data/raw\"\n",
    "metadata_path = os.path.join(base_path, \"metadata\")\n",
    "lyrics_path = os.path.join(base_path, \"lyrics\")\n",
    "\n",
    "os.makedirs(metadata_path, exist_ok=True)\n",
    "os.makedirs(lyrics_path, exist_ok=True)"
   ]
  },
  {
   "cell_type": "code",
   "execution_count": 59,
   "id": "834424b2-d3d4-4b79-9409-ef2620ac6d10",
   "metadata": {},
   "outputs": [],
   "source": [
    "# Künstlerliste\n",
    "artists = [\n",
    "    \"Capital Bra\", \"Bushido\", \"Shirin David\", \"RAF Camora\", \"Samra\", \"Fler\",\n",
    "    \"Kontra K\", \"Kollegah\", \"Sido\", \"Haftbefehl\", \"LX\", \"Maxwell\", \"Farid Bang\",\n",
    "    \"KC Rebell\", \"Gzuz\", \"Bonez MC\", \"Ufo361\", \"Nura\", \"Eunique\",\n",
    "    \"Sero El Mero\", \"Motrip\", \"Celo & Abdi\", \"Olexesh\", \"Summer Cem\", \"Juju\",\n",
    "    \"Azet\", \"Zuna\", \"Luciano\", \"RIN\", \"Loredana\", \"Pashanim\", \"Hanybal\", \"Cro\",\n",
    "    \"Apache 207\", \"RIN\", \"Bausa\", \"Nimo\", \"Miami Yacine\", \"SSIO\", \"Eno\", \"reezy\", \n",
    "    \"Dardan\", \"Mero\", \"Jamule\", \"Monet192\",\n",
    "]"
   ]
  },
  {
   "cell_type": "code",
   "execution_count": 50,
   "id": "7683b375-d674-4293-b36e-543e3a89fec2",
   "metadata": {},
   "outputs": [],
   "source": [
    "# Einstellungen für Datenabrufung\n",
    "num_songs = 10\n",
    "batch_size = 5 \n",
    "sleep_time = 1 \n",
    "\n",
    "virtual_data = {\n",
    "    \"artists\": {},\n",
    "    \"lyrics\": {}\n",
    "}"
   ]
  },
  {
   "cell_type": "code",
   "execution_count": 51,
   "id": "5aea6fc5-f856-4036-8baf-1f3f1cd311eb",
   "metadata": {},
   "outputs": [
    {
     "name": "stdout",
     "output_type": "stream",
     "text": [
      "\n",
      "Lade Batch 1 von 10 ...\n",
      "Capital Bra geladen (10 Songs)\n",
      "Bushido geladen (10 Songs)\n",
      "Shirin David geladen (10 Songs)\n",
      "RAF Camora geladen (10 Songs)\n",
      "Samra geladen (10 Songs)\n",
      "\n",
      "Lade Batch 2 von 10 ...\n",
      "Fler geladen (10 Songs)\n",
      "Kontra K geladen (10 Songs)\n",
      "Kollegah geladen (10 Songs)\n",
      "Sido geladen (10 Songs)\n",
      "Haftbefehl geladen (10 Songs)\n",
      "\n",
      "Lade Batch 3 von 10 ...\n",
      "LX geladen (10 Songs)\n",
      "Maxwell geladen (10 Songs)\n",
      "Farid Bang geladen (10 Songs)\n",
      "KC Rebell geladen (10 Songs)\n",
      "Gzuz geladen (10 Songs)\n",
      "\n",
      "Lade Batch 4 von 10 ...\n",
      "Bonez MC geladen (10 Songs)\n",
      "Ufo361 geladen (10 Songs)\n",
      "Nura geladen (10 Songs)\n",
      "Eunique geladen (10 Songs)\n",
      "Sero El Mero geladen (10 Songs)\n",
      "\n",
      "Lade Batch 5 von 10 ...\n",
      "Motrip geladen (10 Songs)\n",
      "Celo & Abdi geladen (10 Songs)\n",
      "Olexesh geladen (10 Songs)\n",
      "Summer Cem geladen (10 Songs)\n",
      "Juju geladen (10 Songs)\n",
      "\n",
      "Lade Batch 6 von 10 ...\n",
      "Azet geladen (10 Songs)\n",
      "Zuna geladen (10 Songs)\n",
      "Luciano geladen (10 Songs)\n",
      "RIN geladen (10 Songs)\n",
      "Loredana geladen (10 Songs)\n",
      "\n",
      "Lade Batch 7 von 10 ...\n",
      "Pashanim geladen (10 Songs)\n",
      "Hanybal geladen (10 Songs)\n",
      "Cro geladen (10 Songs)\n",
      "Apache 207 geladen (10 Songs)\n",
      "RIN geladen (10 Songs)\n",
      "\n",
      "Lade Batch 8 von 10 ...\n",
      "Bausa geladen (10 Songs)\n",
      "Nimo geladen (10 Songs)\n",
      "Miami Yacine geladen (10 Songs)\n",
      "SSIO geladen (10 Songs)\n",
      "Eno geladen (10 Songs)\n",
      "\n",
      "Lade Batch 9 von 10 ...\n",
      "reezy geladen (10 Songs)\n",
      "Dardan geladen (10 Songs)\n",
      "Mero geladen (10 Songs)\n",
      "Jamule geladen (10 Songs)\n",
      "Monet192 geladen (10 Songs)\n"
     ]
    }
   ],
   "source": [
    "# Artists in Batches laden\n",
    "for i in range(0, len(artists), batch_size):\n",
    "    batch = artists[i:i + batch_size]\n",
    "    print(f\"\\nLade Batch {i // batch_size + 1} von {len(artists) // batch_size + 1} ...\")\n",
    "\n",
    "    for artist in batch:\n",
    "        artist_key = artist.replace(\" \", \"_\")\n",
    "        virtual_data[\"artists\"][artist_key] = []\n",
    "\n",
    "        genius_artist = genius.search_artist(artist, max_songs=num_songs, sort=\"popularity\")\n",
    "\n",
    "        for song in genius_artist.songs:\n",
    "            song_id = str(uuid.uuid4())\n",
    "\n",
    "            song_meta = {\n",
    "                \"song_id\": song_id,\n",
    "                \"title\": song.title,\n",
    "                \"artist\": artist,\n",
    "                \"album\": song.album if hasattr(song, \"album\") else None,\n",
    "                \"url\": song.url,\n",
    "            }\n",
    "\n",
    "            raw_lyrics = song.lyrics or \"\"\n",
    "            clean_lyrics = re.sub(r\"\\s+\", \" \", raw_lyrics).strip()\n",
    "\n",
    "            lyrics_data = {\n",
    "                \"song_id\": song_id,\n",
    "                \"lyrics\": clean_lyrics\n",
    "            }\n",
    "\n",
    "            virtual_data[\"artists\"][artist_key].append(song_meta)\n",
    "            virtual_data[\"lyrics\"][song_id] = lyrics_data\n",
    "\n",
    "        print(f\"{artist} geladen ({len(genius_artist.songs)} Songs)\")\n",
    "        time.sleep(sleep_time)"
   ]
  },
  {
   "cell_type": "code",
   "execution_count": 53,
   "id": "d3fcab32-9a3f-4f18-82b7-6d46f0bdf033",
   "metadata": {},
   "outputs": [],
   "source": [
    "metadata = {\"artists\": {}}\n",
    "for artist_key, songs in virtual_data[\"artists\"].items():\n",
    "    metadata[\"artists\"][artist_key] = [\n",
    "        {\n",
    "            \"song_id\": s[\"song_id\"],\n",
    "            \"song_title\": s[\"title\"],\n",
    "            \"artist_name\": s[\"artist\"],\n",
    "            \"album_name\": s[\"album\"][\"name\"] if s[\"album\"] else \"Unknown\",\n",
    "            \"artist_id\": s[\"album\"][\"artist\"][\"id\"] if s[\"album\"] else None,\n",
    "            \"release_date\": s[\"album\"][\"release_date_for_display\"] if s[\"album\"] else \"Unknown\",\n",
    "            \"album_url\": s[\"album\"][\"url\"] if s[\"album\"] else None,\n",
    "            \"song_url\": s[\"url\"]\n",
    "        }\n",
    "        for s in songs\n",
    "    ]\n",
    "\n",
    "lyrics = virtual_data[\"lyrics\"]"
   ]
  },
  {
   "cell_type": "code",
   "execution_count": 57,
   "id": "9064859e-41e3-48aa-bcda-6e803e9f4ded",
   "metadata": {},
   "outputs": [],
   "source": [
    "# Ausgabe zum Testen\n",
    "# pprint.pprint(metadata)"
   ]
  },
  {
   "cell_type": "code",
   "execution_count": 58,
   "id": "2669e6e1-44e4-42e9-a016-329461ff122d",
   "metadata": {},
   "outputs": [],
   "source": [
    "# pprint.pprint(lyrics)"
   ]
  },
  {
   "cell_type": "code",
   "execution_count": 56,
   "id": "75e9a0a8-a7f1-49db-8bbf-6a663eb9cc09",
   "metadata": {},
   "outputs": [],
   "source": [
    "# Metadata speichern\n",
    "with open(os.path.join(metadata_path, \"metadata.json\"), \"w\", encoding=\"utf-8\") as f:\n",
    "    json.dump(metadata, f, ensure_ascii=False, indent=4)\n",
    "\n",
    "# Lyrics speichern\n",
    "with open(os.path.join(lyrics_path, \"lyrics.json\"), \"w\", encoding=\"utf-8\") as f:\n",
    "    json.dump(lyrics, f, ensure_ascii=False, indent=4)"
   ]
  }
 ],
 "metadata": {
  "kernelspec": {
   "display_name": "Python (rap_env)",
   "language": "python",
   "name": "rap_env"
  },
  "language_info": {
   "codemirror_mode": {
    "name": "ipython",
    "version": 3
   },
   "file_extension": ".py",
   "mimetype": "text/x-python",
   "name": "python",
   "nbconvert_exporter": "python",
   "pygments_lexer": "ipython3",
   "version": "3.11.13"
  }
 },
 "nbformat": 4,
 "nbformat_minor": 5
}
